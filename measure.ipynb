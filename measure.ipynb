{
 "cells": [
  {
   "cell_type": "markdown",
   "metadata": {},
   "source": [
    "# Measuring resource usage\n",
    "\n",
    "- CPU, memory, disk and network I/O\n",
    "- Task Manager on Windows, Activity Monitor on Mac, `top` on Unix\n",
    "- Every running program is a process (PID)\n",
    "  - and it's subprocesses\n",
    "- Processes request memory from OS to store data (variables) and use CPU time to process them\n",
    "- Under Jupyter, every notebook starts a kernel - Python subprocess"
   ]
  },
  {
   "cell_type": "markdown",
   "metadata": {},
   "source": [
    "# Execution time\n",
    "\n",
    "IPython magics: `%time` and `%timeit`.\n",
    "Python modules: `time` and `timeit`.\n",
    "\n",
    "- Wall time: time that clock on the wall would measure.\n",
    "- User time: CPU executing your code.\n",
    "- System time: CPU executing lower level OS code.\n",
    "- If `wall > user + sys`, CPU is probably waiting for I/O operation (eg. read from disk)\n",
    "- If `wall < user + sys`, you are using multiple CPU cores.\n",
    "\n",
    "I also highly recommend [execute-time](https://github.com/deshaw/jupyterlab-execute-time) extension for JupyterLab."
   ]
  },
  {
   "cell_type": "code",
   "execution_count": null,
   "metadata": {},
   "outputs": [],
   "source": [
    "%%time\n",
    "1 + 1"
   ]
  },
  {
   "cell_type": "code",
   "execution_count": null,
   "metadata": {},
   "outputs": [],
   "source": [
    "%%timeit\n",
    "1 + 1"
   ]
  },
  {
   "cell_type": "code",
   "execution_count": null,
   "metadata": {},
   "outputs": [],
   "source": [
    "%%timeit?"
   ]
  },
  {
   "cell_type": "code",
   "execution_count": null,
   "metadata": {},
   "outputs": [],
   "source": [
    "import time\n",
    "t0 = time.time()\n",
    "time.sleep(3)\n",
    "dt = time.time() - t0\n",
    "print(f'Elapsed time: {dt:.1f} seconds')"
   ]
  },
  {
   "cell_type": "code",
   "execution_count": null,
   "metadata": {},
   "outputs": [],
   "source": [
    "import timeit\n",
    "\n",
    "def add():\n",
    "    return 1 + 1\n",
    "\n",
    "t = timeit.timeit(add, number=100_000)\n",
    "print(f'Total execution time: {t:.3f} seconds.')"
   ]
  },
  {
   "cell_type": "markdown",
   "metadata": {},
   "source": [
    "# OS monitoring utilities\n",
    "\n",
    "- Windows: Task Manager\n",
    "- MacOS: Activity Monitor\n",
    "- Unix terminal: `top`\n",
    "- Binder: total memory at the bottom\n",
    "\n",
    "Using `top`:\n",
    "- find process by PID\n",
    "- look at %CPU and RES (memory)\n",
    "- `h` for help, `q` to quit\n",
    "- `f` to customize columns and sorting\n",
    "- `e` to change memory units\n",
    "- `u` to filter single user, `o` for other filters, `=` to reset filters\n",
    "- `V` for tree view, `c` for command format\n",
    "- `L` to find and highlight a value, eg. PID\n",
    "\n",
    "If you are in Binder:\n",
    "- File -> New -> Terminal\n",
    "- Arrange this notebook and terminal side by side\n",
    "- Type `top` in terminal to start the utility\n",
    "- Press `f` and leave highlighted only PID, RES, %CPU and COMMAND with `d`, then `q`.\n",
    "- Press `e` until memory is in megabytes."
   ]
  },
  {
   "cell_type": "code",
   "execution_count": null,
   "metadata": {},
   "outputs": [],
   "source": [
    "import os\n",
    "os.getpid()"
   ]
  },
  {
   "cell_type": "markdown",
   "metadata": {},
   "source": [
    "Use 100% CPU."
   ]
  },
  {
   "cell_type": "code",
   "execution_count": null,
   "metadata": {},
   "outputs": [],
   "source": [
    "while True:\n",
    "    cpu = 'hard at work'"
   ]
  },
  {
   "cell_type": "markdown",
   "metadata": {},
   "source": [
    "Create big memory object."
   ]
  },
  {
   "cell_type": "code",
   "execution_count": null,
   "metadata": {},
   "outputs": [],
   "source": [
    "x = [1] * 100_000_000"
   ]
  },
  {
   "cell_type": "markdown",
   "metadata": {},
   "source": [
    "Memory usage goes up..."
   ]
  },
  {
   "cell_type": "code",
   "execution_count": null,
   "metadata": {},
   "outputs": [],
   "source": [
    "x = 1"
   ]
  },
  {
   "cell_type": "markdown",
   "metadata": {},
   "source": [
    "... and then goes down."
   ]
  },
  {
   "cell_type": "markdown",
   "metadata": {},
   "source": [
    "### how Python allocates and releases memory: garbage collection\n",
    "\n",
    "Do not leave \"garbage\" that Python can not automatically \"throw away\"."
   ]
  },
  {
   "cell_type": "code",
   "execution_count": null,
   "metadata": {},
   "outputs": [],
   "source": [
    "x = [1] * 100_000_000\n",
    "y = x"
   ]
  },
  {
   "cell_type": "markdown",
   "metadata": {},
   "source": [
    "Memory goes up..."
   ]
  },
  {
   "cell_type": "code",
   "execution_count": null,
   "metadata": {},
   "outputs": [],
   "source": [
    "x = 1"
   ]
  },
  {
   "cell_type": "markdown",
   "metadata": {},
   "source": [
    "... and stays high!"
   ]
  },
  {
   "cell_type": "markdown",
   "metadata": {},
   "source": [
    "Because `x = 1` merely binds variable `x` to a new piece of data (number). But `y` still points to a big object (list of ones), and so memory is not released by garbage collector.\n",
    "\n",
    "Bind `y` to something new, then no more variables are referencing that big list, and it will be garbage collected."
   ]
  },
  {
   "cell_type": "code",
   "execution_count": null,
   "metadata": {},
   "outputs": [],
   "source": [
    "y = 2"
   ]
  },
  {
   "cell_type": "markdown",
   "metadata": {},
   "source": [
    "Memory usage falls down again."
   ]
  },
  {
   "cell_type": "markdown",
   "metadata": {},
   "source": [
    "It might be obvious and clear in this example, but think about real code where you have multiple dataframes for temporary and intermediate results. This is why organizing your code into functions is useful. Variables local to a function are deallocated after it returns."
   ]
  },
  {
   "cell_type": "code",
   "execution_count": null,
   "metadata": {},
   "outputs": [],
   "source": [
    "def use_memory(seconds):\n",
    "    print('start')\n",
    "    z = [1] * 100_000_000\n",
    "    time.sleep(seconds)\n",
    "    print('finish')\n",
    "\n",
    "use_memory(5)"
   ]
  },
  {
   "cell_type": "markdown",
   "metadata": {},
   "source": [
    "Note. Jupyter notebooks (more precisely IPython) may hold references to your large objects where you don't expect them. For example, calling `df` in a single cell with execution count N will store reference that dataframe in `_N`, `_oh[N]` and `Out[N]` (see [IPython docs](https://ipython.readthedocs.io/en/stable/interactive/reference.html#output-caching-system)). Even if you later re-assign `df` to something else, dataframe will still hang in memory. Take-away: if memory is a concern, never call `df` to view the dataframe (use `df.head()` or `df.sample()`) and restart kernel to start afresh."
   ]
  },
  {
   "cell_type": "code",
   "execution_count": null,
   "metadata": {},
   "outputs": [],
   "source": [
    "# remember execution count of this cell\n",
    "x = [1] * 100_000_000\n",
    "x"
   ]
  },
  {
   "cell_type": "code",
   "execution_count": null,
   "metadata": {},
   "outputs": [],
   "source": [
    "x = 1"
   ]
  },
  {
   "cell_type": "markdown",
   "metadata": {},
   "source": [
    "Nothing happens with memory, even though we reassigned `x`. The long list is still somewhere there:"
   ]
  },
  {
   "cell_type": "code",
   "execution_count": null,
   "metadata": {},
   "outputs": [],
   "source": [
    "# replace with execution count from above\n",
    "len(_oh['execution count of cell with large output'])"
   ]
  },
  {
   "cell_type": "markdown",
   "metadata": {},
   "source": [
    "# numpy arrays and pandas DataFrames"
   ]
  },
  {
   "cell_type": "code",
   "execution_count": null,
   "metadata": {},
   "outputs": [],
   "source": [
    "import numpy as np\n",
    "import pandas as pd\n",
    "\n",
    "x = np.ones(1_000_000)\n",
    "x.nbytes"
   ]
  },
  {
   "cell_type": "markdown",
   "metadata": {},
   "source": [
    "Always use `deep=True` with DataFrames that hold string data."
   ]
  },
  {
   "cell_type": "code",
   "execution_count": null,
   "metadata": {},
   "outputs": [],
   "source": [
    "df = pd.read_csv('data/synig/2020.csv')\n",
    "print(df.shape)\n",
    "shallow = df.memory_usage()\n",
    "deep = df.memory_usage(deep=True)\n",
    "(pd.DataFrame({'shallow': shallow, 'deep': deep}) / 10**6).round(1)"
   ]
  },
  {
   "cell_type": "code",
   "execution_count": null,
   "metadata": {},
   "outputs": [],
   "source": [
    "print('Total memory (shallow), MB:', shallow.sum() / 1000_000)\n",
    "print('Total memory (deep), MB:', deep.sum() / 1000_000)"
   ]
  },
  {
   "cell_type": "markdown",
   "metadata": {},
   "source": [
    "# resources used by a process\n",
    "\n",
    "[`psutil` docs](https://psutil.readthedocs.io)\n",
    "> psutil (python system and process utilities) is a cross-platform library for retrieving information on running processes and system utilization"
   ]
  },
  {
   "cell_type": "code",
   "execution_count": null,
   "metadata": {},
   "outputs": [],
   "source": [
    "import psutil\n",
    "from psutil._common import bytes2human\n",
    "\n",
    "p = psutil.Process(pid=None)"
   ]
  },
  {
   "cell_type": "markdown",
   "metadata": {},
   "source": [
    "CPU usage"
   ]
  },
  {
   "cell_type": "code",
   "execution_count": null,
   "metadata": {},
   "outputs": [],
   "source": [
    "p.cpu_percent()"
   ]
  },
  {
   "cell_type": "markdown",
   "metadata": {},
   "source": [
    "Memory usage."
   ]
  },
  {
   "cell_type": "code",
   "execution_count": null,
   "metadata": {},
   "outputs": [],
   "source": [
    "p.memory_info()"
   ]
  },
  {
   "cell_type": "markdown",
   "metadata": {},
   "source": [
    "... in human readable format."
   ]
  },
  {
   "cell_type": "code",
   "execution_count": null,
   "metadata": {},
   "outputs": [],
   "source": [
    "bytes2human(p.memory_info().rss)"
   ]
  },
  {
   "cell_type": "markdown",
   "metadata": {},
   "source": [
    "Disk I/O operations: reading and writing (not available on MacOS)."
   ]
  },
  {
   "cell_type": "code",
   "execution_count": null,
   "metadata": {},
   "outputs": [],
   "source": [
    "p.io_counters()"
   ]
  },
  {
   "cell_type": "code",
   "execution_count": null,
   "metadata": {},
   "outputs": [],
   "source": [
    "print('Memory before:', bytes2human(p.memory_info().rss))"
   ]
  },
  {
   "cell_type": "code",
   "execution_count": null,
   "metadata": {},
   "outputs": [],
   "source": [
    "x = [1] * 100_000_000\n",
    "print('Memory after:', bytes2human(p.memory_info().rss))"
   ]
  },
  {
   "cell_type": "code",
   "execution_count": null,
   "metadata": {},
   "outputs": [],
   "source": [
    "x = 1\n",
    "print('And back again:', bytes2human(p.memory_info().rss))"
   ]
  },
  {
   "cell_type": "markdown",
   "metadata": {},
   "source": [
    "#### exercise\n",
    "\n",
    "We can use `psutil` to monitor another process if we know its PID.\n",
    "\n",
    "Open a new notebook (Notebook B) and arrange side by side with this one (Notebook A). Create a `psutil.Process` object in Notebook B that will monitor the kernel of Notebok A. Run the below cells (use CPU and memory) and check resource usage using your `Process` object in Notebook B."
   ]
  },
  {
   "cell_type": "code",
   "execution_count": null,
   "metadata": {},
   "outputs": [],
   "source": [
    "while True:\n",
    "    cpu = 'hard at work'"
   ]
  },
  {
   "cell_type": "code",
   "execution_count": null,
   "metadata": {},
   "outputs": [],
   "source": [
    "def use_memory(seconds):\n",
    "    print('start')\n",
    "    z = [1] * 100_000_000\n",
    "    time.sleep(seconds)\n",
    "    print('finish')\n",
    "\n",
    "use_memory(10)"
   ]
  },
  {
   "cell_type": "markdown",
   "metadata": {},
   "source": [
    "# `tools.ResourceMonitor`\n",
    "\n",
    "I have wrapped `psutil` functionality in a Python class that will constantly record resource usage at a given interval and report results (see `tools.py`). We will be using it in this workshop, and you can use it in your work. Or get inspired to make a better one. :)\n",
    "\n",
    "Interface:\n",
    "- `ResourceMonitor(pid, interval)`: create new monitor for a process\n",
    "- `start()`: start monitoring\n",
    "- `stop()`: stop monitoring\n",
    "- `tag(label)`: tag a moment of execution\n",
    "- `df`: dataframe with usage history\n",
    "- `plot()`: visualize CPU, memory and disk I/O\n",
    "- `dump(filepath)` and `load(filepath)`: save and open monitoring results on disk"
   ]
  },
  {
   "cell_type": "code",
   "execution_count": null,
   "metadata": {},
   "outputs": [],
   "source": [
    "from tools import ResourceMonitor\n",
    "\n",
    "from tempfile import TemporaryFile\n",
    "\n",
    "def use_cpu(t):\n",
    "    t0 = time.time()\n",
    "    while time.time() - t0 < t:\n",
    "        x = 1\n",
    "\n",
    "def use_mem(s, n):\n",
    "    x = []\n",
    "    for _ in range(n):\n",
    "        x += [1] * s * 1_000_000\n",
    "        time.sleep(1)\n",
    "\n",
    "def write(f, size_mb):\n",
    "    size = size_mb * 2**20\n",
    "    count = 0\n",
    "    block_size = 8 * 2**10\n",
    "    data = b'a' * block_size\n",
    "    f.seek(0)\n",
    "    while count < size:\n",
    "        count += f.write(data)\n",
    "        f.flush()\n",
    "\n",
    "def read(f):\n",
    "    block_size = 8 * 2**10\n",
    "    f.seek(0)\n",
    "    while f.peek():\n",
    "        f.read(block_size)\n",
    "\n",
    "mon = ResourceMonitor(interval=0.2)\n",
    "mon.start()\n",
    "time.sleep(1)\n",
    "mon.tag('cpu v')\n",
    "use_cpu(2)\n",
    "mon.tag('cpu ^')\n",
    "time.sleep(1)\n",
    "mon.tag('mem v')\n",
    "use_mem(30, 2)\n",
    "mon.tag('mem ^')\n",
    "time.sleep(1)\n",
    "with TemporaryFile() as tf:\n",
    "    mon.tag('write v')\n",
    "    write(tf, 1000)\n",
    "    mon.tag('write ^')\n",
    "    time.sleep(1)\n",
    "    mon.tag('read v')\n",
    "    read(tf)\n",
    "    mon.tag('read ^')\n",
    "time.sleep(1)\n",
    "mon.stop()\n",
    "mon.plot()"
   ]
  },
  {
   "cell_type": "markdown",
   "metadata": {},
   "source": [
    "# more...\n",
    "\n",
    "Many more tools exist for monitoring and profiling. Check out these if you need finer measurement of individual pieces of your code.\n",
    "\n",
    "- [`cProfile`](https://docs.python.org/3/library/profile.html): standard Python profiler of execution time.\n",
    "- [`snakeviz`](https://jiffyclub.github.io/snakeviz/): graphical interface to `cProfile`.\n",
    "- [`line_profiler`](https://github.com/pyutils/line_profiler): for line-by-line profiling.\n",
    "- [`tracemalloc`](https://docs.python.org/3/library/tracemalloc.html) and [`resource`](https://docs.python.org/3/library/resource.html): measure memory usage of individual Python objects.\n",
    "- [`memory_profiler`](https://github.com/pythonprofilers/memory_profiler): line-by-line memory usage."
   ]
  }
 ],
 "metadata": {
  "kernelspec": {
   "display_name": "Python 3",
   "language": "python",
   "name": "python3"
  },
  "language_info": {
   "codemirror_mode": {
    "name": "ipython",
    "version": 3
   },
   "file_extension": ".py",
   "mimetype": "text/x-python",
   "name": "python",
   "nbconvert_exporter": "python",
   "pygments_lexer": "ipython3",
   "version": "3.8.2"
  }
 },
 "nbformat": 4,
 "nbformat_minor": 4
}
