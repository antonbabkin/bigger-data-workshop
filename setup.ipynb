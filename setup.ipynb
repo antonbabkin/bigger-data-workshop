{
 "cells": [
  {
   "cell_type": "markdown",
   "metadata": {},
   "source": [
    "# Testing your environment"
   ]
  },
  {
   "cell_type": "code",
   "execution_count": null,
   "metadata": {},
   "outputs": [],
   "source": [
    "import numpy as np\n",
    "import pandas as pd\n",
    "import matplotlib.pyplot as plt\n",
    "\n",
    "plt.scatter('A', 'B', data=pd.DataFrame(np.random.rand(10, 2), columns=['A', 'B']))"
   ]
  },
  {
   "cell_type": "markdown",
   "metadata": {},
   "source": [
    "# Data download"
   ]
  },
  {
   "cell_type": "code",
   "execution_count": null,
   "metadata": {},
   "outputs": [],
   "source": [
    "from tools import download_file, unzip, ResourceMonitor\n",
    "mon = ResourceMonitor()\n",
    "mon.start()\n",
    "mon.tag('download')\n",
    "url = 'https://uconn-my.sharepoint.com/:u:/g/personal/anton_babkin_uconn_edu/EcVkrfE6Y_FDnmaYziKfjscBa2Rd0KGrXR_dV5vlm2Ql5Q?e=gTBcYJ&download=1'\n",
    "file = download_file(url, 'data', 'synig.zip', overwrite=True)\n",
    "mon.tag('unzip')\n",
    "unzip(file, 'data')\n",
    "mon.tag('done')\n",
    "mon.stop()\n",
    "mon.plot()"
   ]
  },
  {
   "cell_type": "markdown",
   "metadata": {},
   "source": [
    "# Data preview"
   ]
  },
  {
   "cell_type": "code",
   "execution_count": null,
   "metadata": {},
   "outputs": [],
   "source": [
    "import pandas as pd\n",
    "df = pd.read_csv('data/synig/2020.csv', nrows=100_000)\n",
    "df.sample(5)"
   ]
  },
  {
   "cell_type": "markdown",
   "metadata": {},
   "source": [
    "# GIS\n",
    "\n",
    "Plot sample of businsses over Census tracts in Wisconsin.\n",
    "\n",
    "*Some businesses may be out of state or even out of land because coourdinates are with added noise.*"
   ]
  },
  {
   "cell_type": "code",
   "execution_count": null,
   "metadata": {},
   "outputs": [],
   "source": [
    "import pandas as pd\n",
    "import geopandas as gpd\n",
    "import matplotlib.pyplot as plt\n",
    "from tools import download_file, unzip, state_aa_00\n",
    "\n",
    "state = 'WI'\n",
    "df = pd.read_csv('data/synig/2020.csv')\n",
    "df = df[df['STATE'] == state]\n",
    "df = gpd.GeoDataFrame(df)\n",
    "df['LONLAT'] = gpd.points_from_xy(df['LONGITUDE'], df['LATITUDE'])\n",
    "df = df.set_geometry('LONLAT', crs={'init': 'epsg:4326'}).to_crs({'init': 'epsg:6579'})\n",
    "\n",
    "state_code = state_aa_00[state]\n",
    "url = f'https://www2.census.gov/geo/tiger/GENZ2019/shp/cb_2019_{state_code}_tract_500k.zip'\n",
    "f = download_file(url, f'data/tracts/{state_code}', overwrite=True)\n",
    "unzip(f, f'data/tracts/{state_code}', overwrite=True)\n",
    "tracts = gpd.read_file(f'data/tracts/{state_code}/cb_2019_{state_code}_tract_500k.shp').to_crs({'init': 'epsg:6579'})\n",
    "\n",
    "fig, ax = plt.subplots(figsize=(10, 10))\n",
    "tracts.to_crs({'init': 'epsg:6579'}).plot(ax=ax, alpha=0.6, edgecolor='gray')\n",
    "df.sample(1000).plot(ax=ax, markersize=2, color='red')\n",
    "ax.axis('off')"
   ]
  }
 ],
 "metadata": {
  "kernelspec": {
   "display_name": "Python 3",
   "language": "python",
   "name": "python3"
  },
  "language_info": {
   "codemirror_mode": {
    "name": "ipython",
    "version": 3
   },
   "file_extension": ".py",
   "mimetype": "text/x-python",
   "name": "python",
   "nbconvert_exporter": "python",
   "pygments_lexer": "ipython3",
   "version": "3.8.2"
  }
 },
 "nbformat": 4,
 "nbformat_minor": 4
}
