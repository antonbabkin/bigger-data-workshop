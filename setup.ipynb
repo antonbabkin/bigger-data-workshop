{
 "cells": [
  {
   "cell_type": "markdown",
   "metadata": {},
   "source": [
    "# Testing your environment"
   ]
  },
  {
   "cell_type": "code",
   "execution_count": null,
   "metadata": {},
   "outputs": [],
   "source": [
    "import numpy as np\n",
    "import pandas as pd\n",
    "import matplotlib.pyplot as plt\n",
    "\n",
    "plt.scatter('A', 'B', data=pd.DataFrame(np.random.rand(10, 2), columns=['A', 'B']))"
   ]
  },
  {
   "cell_type": "markdown",
   "metadata": {},
   "source": [
    "# Data download"
   ]
  },
  {
   "cell_type": "code",
   "execution_count": null,
   "metadata": {},
   "outputs": [],
   "source": [
    "from tools import download_file, unzip, ResourceMonitor\n",
    "mon = ResourceMonitor()\n",
    "mon.start()\n",
    "mon.tag('download')\n",
    "url = 'URL WILL BE UPDATED LATER'\n",
    "file = download_file(url, fname='synig.zip')\n",
    "mon.tag('unzip')\n",
    "unzip(file)\n",
    "mon.tag('done')\n",
    "mon.stop()\n",
    "mon.plot()"
   ]
  }
 ],
 "metadata": {
  "kernelspec": {
   "display_name": "Python 3",
   "language": "python",
   "name": "python3"
  },
  "language_info": {
   "codemirror_mode": {
    "name": "ipython",
    "version": 3
   },
   "file_extension": ".py",
   "mimetype": "text/x-python",
   "name": "python",
   "nbconvert_exporter": "python",
   "pygments_lexer": "ipython3",
   "version": "3.8.2"
  }
 },
 "nbformat": 4,
 "nbformat_minor": 4
}
