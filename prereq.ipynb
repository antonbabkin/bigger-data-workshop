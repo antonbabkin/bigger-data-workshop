{
 "cells": [
  {
   "cell_type": "markdown",
   "metadata": {},
   "source": [
    "This notebook presents an exercise in data analysis with Python and pandas. If you are able to complete it, you should be comfortable with the materials of the workshop. You don't need to submit your solution."
   ]
  },
  {
   "cell_type": "markdown",
   "metadata": {},
   "source": [
    "USDA Economic Research Service provides data on [Rural-Urban Continuum Codes](https://www.ers.usda.gov/data-products/rural-urban-continuum-codes/), classification scheme that distinguishes metropolitan counties by the population size of their metro area, and nonmetropolitan counties by degree of urbanization and adjacency to a metro area.\n",
    "\n",
    "Your task is to retrieve the data, assemble it into a pandas dataframe and perform some simple analysis of trends.\n",
    "\n",
    "1. Download 2003 and 2013 tables.\n",
    "2. Load tables into pandas.\n",
    "3. What fraction of counties changed their RUC code between 2003 and 2013?\n",
    "3. Compute how many people (count and share of total population) were living in counties not adjacent to a metropolitan area. How did the numbers change between 2003 and 2013?\n",
    "4. Among counties not adjacent to a metropolitan area, identify three with fastest population growth and fastest decline."
   ]
  }
 ],
 "metadata": {
  "kernelspec": {
   "display_name": "Python 3",
   "language": "python",
   "name": "python3"
  },
  "language_info": {
   "codemirror_mode": {
    "name": "ipython",
    "version": 3
   },
   "file_extension": ".py",
   "mimetype": "text/x-python",
   "name": "python",
   "nbconvert_exporter": "python",
   "pygments_lexer": "ipython3",
   "version": "3.8.5"
  }
 },
 "nbformat": 4,
 "nbformat_minor": 4
}
