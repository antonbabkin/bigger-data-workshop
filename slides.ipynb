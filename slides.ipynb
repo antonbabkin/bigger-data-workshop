{
 "cells": [
  {
   "cell_type": "markdown",
   "metadata": {
    "slideshow": {
     "slide_type": "slide"
    }
   },
   "source": [
    "# Scaling up empirical research to bigger data with Python\n",
    "\n",
    "**Anton Babkin**  \n",
    "Assistant Research Professor  \n",
    "Department of Agricultural and Resource Economics  \n",
    "University of Connecticut  \n",
    "anton.babkin@uconn.edu"
   ]
  },
  {
   "cell_type": "markdown",
   "metadata": {
    "slideshow": {
     "slide_type": "slide"
    }
   },
   "source": [
    "# Introduction\n",
    "\n",
    "- Why not **big** data?\n",
    "- We will talk about working with data that is bigger than memory\n",
    "- I've used methods shown here to work with ~100GB of CSV files of InfoGroup and over 500GB of administrative data at Census"
   ]
  },
  {
   "cell_type": "markdown",
   "metadata": {
    "slideshow": {
     "slide_type": "slide"
    }
   },
   "source": [
    "# Setup\n",
    "\n",
    "- Launch Binder or start Jupyter locally  \n",
    "https://github.com/antonbabkin/ds-bazaar-workshop\n",
    "- Run code in setup notebook to test environment and get data"
   ]
  },
  {
   "cell_type": "markdown",
   "metadata": {
    "slideshow": {
     "slide_type": "slide"
    }
   },
   "source": [
    "# General advice\n",
    "\n",
    "- Tools presented here will add complexity to your code. Do not use them unless you have to. *Premature optimization is the root of all evil* (Donald Knuth)\n",
    "- Make a small version of your data to develop and debug your code\n",
    "- Use functions to modularize your code and let data be released from memory\n",
    "- Use tests and assertions to verify correctness\n",
    "- Learn to navigate diverse Python ecosystem of open source libraries"
   ]
  },
  {
   "cell_type": "markdown",
   "metadata": {
    "slideshow": {
     "slide_type": "notes"
    }
   },
   "source": [
    "Get bigger machine: university clusters, rent a cloud..."
   ]
  },
  {
   "cell_type": "markdown",
   "metadata": {
    "slideshow": {
     "slide_type": "slide"
    }
   },
   "source": [
    "# Overview\n",
    "\n",
    "- Measuring resource usage\n",
    "- Chunking, sampling, subsetting and split-apply-combine\n",
    "- Data type optimization\n",
    "- Using parquet for storage\n",
    "- Parallelization\n",
    "- Dask"
   ]
  },
  {
   "cell_type": "markdown",
   "metadata": {
    "slideshow": {
     "slide_type": "slide"
    }
   },
   "source": [
    "# Data\n",
    "\n",
    "- InfoGroup: propriatary dataset convering all US businesses since 1997\n",
    "  - about 60 columns and 10M rows per year\n",
    "- SynIG: synthetic random data that looks like InfoGroup\n",
    "  - 20 years, 1M rows per year\n",
    "  - location, industry and employment"
   ]
  },
  {
   "cell_type": "markdown",
   "metadata": {
    "slideshow": {
     "slide_type": "subslide"
    }
   },
   "source": [
    "### Longitudinal (panel) data\n",
    "\n",
    "Table: hypothetical employment\n",
    "\n",
    "| ABI | 2001 | 2002 | 2003 | 2004 | 2005 | 2006 | ... |\n",
    "|-----|------|------|------|------|------|------|-----|\n",
    "| 001 | 1    | 5    | 2    | .    | .    | .    |     |\n",
    "| 002 | 1    | 2    | 2    | 10   | 6    | .    |     |\n",
    "| 003 | .    | 3    | 6    | 5    | 7    | 8    |     |\n",
    "| ... |      |      |      |      |      |      |     |"
   ]
  },
  {
   "cell_type": "markdown",
   "metadata": {
    "slideshow": {
     "slide_type": "notes"
    }
   },
   "source": [
    "show CSV tables\n",
    "\n",
    "[NAICS sectors](https://www.census.gov/cgi-bin/sssd/naics/naicsrch?chart=2017)"
   ]
  },
  {
   "cell_type": "markdown",
   "metadata": {
    "slideshow": {
     "slide_type": "subslide"
    }
   },
   "source": [
    "### Requesting access to InfoGroup\n",
    "\n",
    "*For University of Wisconsin affiliated researchers.*\n",
    "\n",
    "InfoGroup serves as raw input for an enhanced dataset called YTS (Youreconomy Time Series).\n",
    "\n",
    "General Info: https://wisconsinbdrc.org/data/  \n",
    "DDaTSL: https://www.bdrcfm.org/DDATSL2020/ (authorized account required)\n",
    "\n",
    "For more info about using the data including web based tool, contact:  jessica.nelson@business.wisconsin.edu"
   ]
  },
  {
   "cell_type": "markdown",
   "metadata": {
    "slideshow": {
     "slide_type": "slide"
    }
   },
   "source": [
    "# Parting words\n",
    "\n",
    "- Premature optimization is the root of all evil\n",
    "- Do not optimize without measurement\n",
    "- Inevitable memory-time-complexity trade-offs\n",
    "- Python if extremely versatile and powerful\n",
    "  - with great power comes great responsibility\n",
    "  - keep learning"
   ]
  },
  {
   "cell_type": "markdown",
   "metadata": {},
   "source": [
    "<script>\n",
    "    document.querySelector('head').innerHTML += '<style>body {font-size: 200%}</style>';\n",
    "</script>"
   ]
  }
 ],
 "metadata": {
  "kernelspec": {
   "display_name": "Python 3",
   "language": "python",
   "name": "python3"
  },
  "language_info": {
   "codemirror_mode": {
    "name": "ipython",
    "version": 3
   },
   "file_extension": ".py",
   "mimetype": "text/x-python",
   "name": "python",
   "nbconvert_exporter": "python",
   "pygments_lexer": "ipython3",
   "version": "3.8.2"
  }
 },
 "nbformat": 4,
 "nbformat_minor": 4
}
